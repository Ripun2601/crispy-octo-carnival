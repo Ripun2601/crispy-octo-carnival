{
 "cells": [
  {
   "cell_type": "markdown",
   "metadata": {
    "id": "Y0KDvaZYVrX_"
   },
   "source": [
    "## Environment Setup\n",
    "\n",
    "The libraries required for the project to run are imported and initialized"
   ]
  },
  {
   "cell_type": "code",
   "execution_count": null,
   "metadata": {
    "colab": {
     "base_uri": "https://localhost:8080/"
    },
    "id": "Q5K4OkZdAgu7",
    "outputId": "94e19c84-d59d-46ad-fa0f-ffd50beb9fe4"
   },
   "outputs": [
    {
     "name": "stderr",
     "output_type": "stream",
     "text": [
      "[nltk_data] Downloading package punkt to /root/nltk_data...\n",
      "[nltk_data]   Package punkt is already up-to-date!\n",
      "[nltk_data] Downloading package stopwords to /root/nltk_data...\n",
      "[nltk_data]   Package stopwords is already up-to-date!\n"
     ]
    },
    {
     "data": {
      "text/plain": [
       "True"
      ]
     },
     "execution_count": 45,
     "metadata": {},
     "output_type": "execute_result"
    }
   ],
   "source": [
    "import requests\n",
    "import pandas\n",
    "import re\n",
    "import nltk\n",
    "import matplotlib.pyplot as plt\n",
    "import numpy\n",
    "from nltk.corpus import stopwords\n",
    "from nltk.tokenize import word_tokenize\n",
    "from nltk.stem import PorterStemmer\n",
    "from sklearn.feature_extraction.text import TfidfVectorizer\n",
    "from sklearn.model_selection import train_test_split\n",
    "from sklearn.linear_model import LogisticRegression\n",
    "from sklearn.ensemble import RandomForestClassifier\n",
    "from sklearn.naive_bayes import MultinomialNB\n",
    "from sklearn.metrics import classification_report, accuracy_score, precision_score, recall_score, f1_score\n",
    "from sklearn.svm import SVC\n",
    "from keras.preprocessing.text import Tokenizer\n",
    "from keras.utils import pad_sequences\n",
    "from keras import regularizers, layers\n",
    "from keras.models import Sequential, load_model\n",
    "from keras.optimizers import RMSprop,Adam\n",
    "from keras import backend as K\n",
    "from keras.callbacks import ModelCheckpoint\n",
    "import tensorflow as tf\n",
    "nltk.download('punkt')\n",
    "nltk.download('stopwords')"
   ]
  },
  {
   "cell_type": "markdown",
   "metadata": {
    "id": "ZtItYEnxX9Vq"
   },
   "source": [
    "## Retrieving the dataset\n",
    "\n",
    "Since the dataset is hosted on Google Drive, it is fetched and written into a csv file."
   ]
  },
  {
   "cell_type": "code",
   "execution_count": null,
   "metadata": {
    "id": "6uBJdki_AkPP"
   },
   "outputs": [],
   "source": [
    "gDrive_share = 'https://drive.google.com/uc?export=download&id=1F3oU61kC2ZqQ9HJLKAmoblehs3ENgUl8'\n",
    "response = requests.get(gDrive_share, headers = {'Accept': 'application/text'})\n",
    "with open('twitter_text_data.csv', \"w\") as twitter_text_data:\n",
    "  twitter_text_data.write(response.text)"
   ]
  },
  {
   "cell_type": "markdown",
   "metadata": {
    "id": "FoYTiCFYYk3X"
   },
   "source": [
    "The csv file is now loaded into a pandas dataframe for the next step of data processing and visulization."
   ]
  },
  {
   "cell_type": "code",
   "execution_count": null,
   "metadata": {
    "id": "HMZfk-ATAlkd"
   },
   "outputs": [],
   "source": [
    "txt_mdl_src = pandas.read_csv(\"twitter_text_data.csv\", sep=',')"
   ]
  },
  {
   "cell_type": "markdown",
   "metadata": {
    "id": "_Cv6FYUEZS3J"
   },
   "source": [
    "## Exploratory Data Analysis (EDA)\n",
    "\n",
    "Using the dataframe to obtain insights and patterns"
   ]
  },
  {
   "cell_type": "code",
   "execution_count": null,
   "metadata": {
    "colab": {
     "base_uri": "https://localhost:8080/",
     "height": 641
    },
    "id": "ynWHKlwFZZMT",
    "outputId": "325bd8c2-e48e-4aa8-b693-ae28f3c20c58"
   },
   "outputs": [
    {
     "data": {
      "text/html": [
       "\n",
       "\n",
       "  <div id=\"df-359dd9ac-2928-4944-a4c4-62debad6bf01\">\n",
       "    <div class=\"colab-df-container\">\n",
       "      <div>\n",
       "<style scoped>\n",
       "    .dataframe tbody tr th:only-of-type {\n",
       "        vertical-align: middle;\n",
       "    }\n",
       "\n",
       "    .dataframe tbody tr th {\n",
       "        vertical-align: top;\n",
       "    }\n",
       "\n",
       "    .dataframe thead th {\n",
       "        text-align: right;\n",
       "    }\n",
       "</style>\n",
       "<table border=\"1\" class=\"dataframe\">\n",
       "  <thead>\n",
       "    <tr style=\"text-align: right;\">\n",
       "      <th></th>\n",
       "      <th>Unnamed: 0</th>\n",
       "      <th>count</th>\n",
       "      <th>hate_speech</th>\n",
       "      <th>offensive_language</th>\n",
       "      <th>neither</th>\n",
       "      <th>class</th>\n",
       "      <th>tweet</th>\n",
       "    </tr>\n",
       "  </thead>\n",
       "  <tbody>\n",
       "    <tr>\n",
       "      <th>0</th>\n",
       "      <td>0</td>\n",
       "      <td>3</td>\n",
       "      <td>0</td>\n",
       "      <td>0</td>\n",
       "      <td>3</td>\n",
       "      <td>2</td>\n",
       "      <td>!!! RT @mayasolovely: As a woman you shouldn't...</td>\n",
       "    </tr>\n",
       "    <tr>\n",
       "      <th>1</th>\n",
       "      <td>1</td>\n",
       "      <td>3</td>\n",
       "      <td>0</td>\n",
       "      <td>3</td>\n",
       "      <td>0</td>\n",
       "      <td>1</td>\n",
       "      <td>!!!!! RT @mleew17: boy dats cold...tyga dwn ba...</td>\n",
       "    </tr>\n",
       "    <tr>\n",
       "      <th>2</th>\n",
       "      <td>2</td>\n",
       "      <td>3</td>\n",
       "      <td>0</td>\n",
       "      <td>3</td>\n",
       "      <td>0</td>\n",
       "      <td>1</td>\n",
       "      <td>!!!!!!! RT @UrKindOfBrand Dawg!!!! RT @80sbaby...</td>\n",
       "    </tr>\n",
       "    <tr>\n",
       "      <th>3</th>\n",
       "      <td>3</td>\n",
       "      <td>3</td>\n",
       "      <td>0</td>\n",
       "      <td>2</td>\n",
       "      <td>1</td>\n",
       "      <td>1</td>\n",
       "      <td>!!!!!!!!! RT @C_G_Anderson: @viva_based she lo...</td>\n",
       "    </tr>\n",
       "    <tr>\n",
       "      <th>4</th>\n",
       "      <td>4</td>\n",
       "      <td>6</td>\n",
       "      <td>0</td>\n",
       "      <td>6</td>\n",
       "      <td>0</td>\n",
       "      <td>1</td>\n",
       "      <td>!!!!!!!!!!!!! RT @ShenikaRoberts: The shit you...</td>\n",
       "    </tr>\n",
       "    <tr>\n",
       "      <th>...</th>\n",
       "      <td>...</td>\n",
       "      <td>...</td>\n",
       "      <td>...</td>\n",
       "      <td>...</td>\n",
       "      <td>...</td>\n",
       "      <td>...</td>\n",
       "      <td>...</td>\n",
       "    </tr>\n",
       "    <tr>\n",
       "      <th>24778</th>\n",
       "      <td>25291</td>\n",
       "      <td>3</td>\n",
       "      <td>0</td>\n",
       "      <td>2</td>\n",
       "      <td>1</td>\n",
       "      <td>1</td>\n",
       "      <td>you's a muthaf***in lie &amp;#8220;@LifeAsKing: @2...</td>\n",
       "    </tr>\n",
       "    <tr>\n",
       "      <th>24779</th>\n",
       "      <td>25292</td>\n",
       "      <td>3</td>\n",
       "      <td>0</td>\n",
       "      <td>1</td>\n",
       "      <td>2</td>\n",
       "      <td>2</td>\n",
       "      <td>you've gone and broke the wrong heart baby, an...</td>\n",
       "    </tr>\n",
       "    <tr>\n",
       "      <th>24780</th>\n",
       "      <td>25294</td>\n",
       "      <td>3</td>\n",
       "      <td>0</td>\n",
       "      <td>3</td>\n",
       "      <td>0</td>\n",
       "      <td>1</td>\n",
       "      <td>young buck wanna eat!!.. dat nigguh like I ain...</td>\n",
       "    </tr>\n",
       "    <tr>\n",
       "      <th>24781</th>\n",
       "      <td>25295</td>\n",
       "      <td>6</td>\n",
       "      <td>0</td>\n",
       "      <td>6</td>\n",
       "      <td>0</td>\n",
       "      <td>1</td>\n",
       "      <td>youu got wild bitches tellin you lies</td>\n",
       "    </tr>\n",
       "    <tr>\n",
       "      <th>24782</th>\n",
       "      <td>25296</td>\n",
       "      <td>3</td>\n",
       "      <td>0</td>\n",
       "      <td>0</td>\n",
       "      <td>3</td>\n",
       "      <td>2</td>\n",
       "      <td>~~Ruffled | Ntac Eileen Dahlia - Beautiful col...</td>\n",
       "    </tr>\n",
       "  </tbody>\n",
       "</table>\n",
       "<p>24783 rows × 7 columns</p>\n",
       "</div>\n",
       "      <button class=\"colab-df-convert\" onclick=\"convertToInteractive('df-359dd9ac-2928-4944-a4c4-62debad6bf01')\"\n",
       "              title=\"Convert this dataframe to an interactive table.\"\n",
       "              style=\"display:none;\">\n",
       "\n",
       "  <svg xmlns=\"http://www.w3.org/2000/svg\" height=\"24px\"viewBox=\"0 0 24 24\"\n",
       "       width=\"24px\">\n",
       "    <path d=\"M0 0h24v24H0V0z\" fill=\"none\"/>\n",
       "    <path d=\"M18.56 5.44l.94 2.06.94-2.06 2.06-.94-2.06-.94-.94-2.06-.94 2.06-2.06.94zm-11 1L8.5 8.5l.94-2.06 2.06-.94-2.06-.94L8.5 2.5l-.94 2.06-2.06.94zm10 10l.94 2.06.94-2.06 2.06-.94-2.06-.94-.94-2.06-.94 2.06-2.06.94z\"/><path d=\"M17.41 7.96l-1.37-1.37c-.4-.4-.92-.59-1.43-.59-.52 0-1.04.2-1.43.59L10.3 9.45l-7.72 7.72c-.78.78-.78 2.05 0 2.83L4 21.41c.39.39.9.59 1.41.59.51 0 1.02-.2 1.41-.59l7.78-7.78 2.81-2.81c.8-.78.8-2.07 0-2.86zM5.41 20L4 18.59l7.72-7.72 1.47 1.35L5.41 20z\"/>\n",
       "  </svg>\n",
       "      </button>\n",
       "\n",
       "\n",
       "\n",
       "    <div id=\"df-975caf89-1422-46a1-9b3b-d6127bac4df4\">\n",
       "      <button class=\"colab-df-quickchart\" onclick=\"quickchart('df-975caf89-1422-46a1-9b3b-d6127bac4df4')\"\n",
       "              title=\"Suggest charts.\"\n",
       "              style=\"display:none;\">\n",
       "\n",
       "<svg xmlns=\"http://www.w3.org/2000/svg\" height=\"24px\"viewBox=\"0 0 24 24\"\n",
       "     width=\"24px\">\n",
       "    <g>\n",
       "        <path d=\"M19 3H5c-1.1 0-2 .9-2 2v14c0 1.1.9 2 2 2h14c1.1 0 2-.9 2-2V5c0-1.1-.9-2-2-2zM9 17H7v-7h2v7zm4 0h-2V7h2v10zm4 0h-2v-4h2v4z\"/>\n",
       "    </g>\n",
       "</svg>\n",
       "      </button>\n",
       "    </div>\n",
       "\n",
       "<style>\n",
       "  .colab-df-quickchart {\n",
       "    background-color: #E8F0FE;\n",
       "    border: none;\n",
       "    border-radius: 50%;\n",
       "    cursor: pointer;\n",
       "    display: none;\n",
       "    fill: #1967D2;\n",
       "    height: 32px;\n",
       "    padding: 0 0 0 0;\n",
       "    width: 32px;\n",
       "  }\n",
       "\n",
       "  .colab-df-quickchart:hover {\n",
       "    background-color: #E2EBFA;\n",
       "    box-shadow: 0px 1px 2px rgba(60, 64, 67, 0.3), 0px 1px 3px 1px rgba(60, 64, 67, 0.15);\n",
       "    fill: #174EA6;\n",
       "  }\n",
       "\n",
       "  [theme=dark] .colab-df-quickchart {\n",
       "    background-color: #3B4455;\n",
       "    fill: #D2E3FC;\n",
       "  }\n",
       "\n",
       "  [theme=dark] .colab-df-quickchart:hover {\n",
       "    background-color: #434B5C;\n",
       "    box-shadow: 0px 1px 3px 1px rgba(0, 0, 0, 0.15);\n",
       "    filter: drop-shadow(0px 1px 2px rgba(0, 0, 0, 0.3));\n",
       "    fill: #FFFFFF;\n",
       "  }\n",
       "</style>\n",
       "\n",
       "    <script>\n",
       "      async function quickchart(key) {\n",
       "        const containerElement = document.querySelector('#' + key);\n",
       "        const charts = await google.colab.kernel.invokeFunction(\n",
       "            'suggestCharts', [key], {});\n",
       "      }\n",
       "    </script>\n",
       "\n",
       "      <script>\n",
       "\n",
       "function displayQuickchartButton(domScope) {\n",
       "  let quickchartButtonEl =\n",
       "    domScope.querySelector('#df-975caf89-1422-46a1-9b3b-d6127bac4df4 button.colab-df-quickchart');\n",
       "  quickchartButtonEl.style.display =\n",
       "    google.colab.kernel.accessAllowed ? 'block' : 'none';\n",
       "}\n",
       "\n",
       "        displayQuickchartButton(document);\n",
       "      </script>\n",
       "      <style>\n",
       "    .colab-df-container {\n",
       "      display:flex;\n",
       "      flex-wrap:wrap;\n",
       "      gap: 12px;\n",
       "    }\n",
       "\n",
       "    .colab-df-convert {\n",
       "      background-color: #E8F0FE;\n",
       "      border: none;\n",
       "      border-radius: 50%;\n",
       "      cursor: pointer;\n",
       "      display: none;\n",
       "      fill: #1967D2;\n",
       "      height: 32px;\n",
       "      padding: 0 0 0 0;\n",
       "      width: 32px;\n",
       "    }\n",
       "\n",
       "    .colab-df-convert:hover {\n",
       "      background-color: #E2EBFA;\n",
       "      box-shadow: 0px 1px 2px rgba(60, 64, 67, 0.3), 0px 1px 3px 1px rgba(60, 64, 67, 0.15);\n",
       "      fill: #174EA6;\n",
       "    }\n",
       "\n",
       "    [theme=dark] .colab-df-convert {\n",
       "      background-color: #3B4455;\n",
       "      fill: #D2E3FC;\n",
       "    }\n",
       "\n",
       "    [theme=dark] .colab-df-convert:hover {\n",
       "      background-color: #434B5C;\n",
       "      box-shadow: 0px 1px 3px 1px rgba(0, 0, 0, 0.15);\n",
       "      filter: drop-shadow(0px 1px 2px rgba(0, 0, 0, 0.3));\n",
       "      fill: #FFFFFF;\n",
       "    }\n",
       "  </style>\n",
       "\n",
       "      <script>\n",
       "        const buttonEl =\n",
       "          document.querySelector('#df-359dd9ac-2928-4944-a4c4-62debad6bf01 button.colab-df-convert');\n",
       "        buttonEl.style.display =\n",
       "          google.colab.kernel.accessAllowed ? 'block' : 'none';\n",
       "\n",
       "        async function convertToInteractive(key) {\n",
       "          const element = document.querySelector('#df-359dd9ac-2928-4944-a4c4-62debad6bf01');\n",
       "          const dataTable =\n",
       "            await google.colab.kernel.invokeFunction('convertToInteractive',\n",
       "                                                     [key], {});\n",
       "          if (!dataTable) return;\n",
       "\n",
       "          const docLinkHtml = 'Like what you see? Visit the ' +\n",
       "            '<a target=\"_blank\" href=https://colab.research.google.com/notebooks/data_table.ipynb>data table notebook</a>'\n",
       "            + ' to learn more about interactive tables.';\n",
       "          element.innerHTML = '';\n",
       "          dataTable['output_type'] = 'display_data';\n",
       "          await google.colab.output.renderOutput(dataTable, element);\n",
       "          const docLink = document.createElement('div');\n",
       "          docLink.innerHTML = docLinkHtml;\n",
       "          element.appendChild(docLink);\n",
       "        }\n",
       "      </script>\n",
       "    </div>\n",
       "  </div>\n"
      ],
      "text/plain": [
       "       Unnamed: 0  count  hate_speech  offensive_language  neither  class  \\\n",
       "0               0      3            0                   0        3      2   \n",
       "1               1      3            0                   3        0      1   \n",
       "2               2      3            0                   3        0      1   \n",
       "3               3      3            0                   2        1      1   \n",
       "4               4      6            0                   6        0      1   \n",
       "...           ...    ...          ...                 ...      ...    ...   \n",
       "24778       25291      3            0                   2        1      1   \n",
       "24779       25292      3            0                   1        2      2   \n",
       "24780       25294      3            0                   3        0      1   \n",
       "24781       25295      6            0                   6        0      1   \n",
       "24782       25296      3            0                   0        3      2   \n",
       "\n",
       "                                                   tweet  \n",
       "0      !!! RT @mayasolovely: As a woman you shouldn't...  \n",
       "1      !!!!! RT @mleew17: boy dats cold...tyga dwn ba...  \n",
       "2      !!!!!!! RT @UrKindOfBrand Dawg!!!! RT @80sbaby...  \n",
       "3      !!!!!!!!! RT @C_G_Anderson: @viva_based she lo...  \n",
       "4      !!!!!!!!!!!!! RT @ShenikaRoberts: The shit you...  \n",
       "...                                                  ...  \n",
       "24778  you's a muthaf***in lie &#8220;@LifeAsKing: @2...  \n",
       "24779  you've gone and broke the wrong heart baby, an...  \n",
       "24780  young buck wanna eat!!.. dat nigguh like I ain...  \n",
       "24781              youu got wild bitches tellin you lies  \n",
       "24782  ~~Ruffled | Ntac Eileen Dahlia - Beautiful col...  \n",
       "\n",
       "[24783 rows x 7 columns]"
      ]
     },
     "execution_count": 48,
     "metadata": {},
     "output_type": "execute_result"
    }
   ],
   "source": [
    "txt_mdl_src"
   ]
  },
  {
   "cell_type": "markdown",
   "metadata": {
    "id": "uMLlnaaxZunz"
   },
   "source": [
    "The counts for each of the three classes are displayed to look for skewness in the dataset"
   ]
  },
  {
   "cell_type": "code",
   "execution_count": null,
   "metadata": {
    "colab": {
     "base_uri": "https://localhost:8080/"
    },
    "id": "TOqpVlfrApO8",
    "outputId": "7c702a57-21df-45a6-fe12-8475ed49f07b"
   },
   "outputs": [
    {
     "name": "stdout",
     "output_type": "stream",
     "text": [
      "   Unnamed: 0  count  hate_speech  offensive_language  neither  class  \\\n",
      "0           0      3            0                   0        3      2   \n",
      "1           1      3            0                   3        0      1   \n",
      "2           2      3            0                   3        0      1   \n",
      "3           3      3            0                   2        1      1   \n",
      "4           4      6            0                   6        0      1   \n",
      "\n",
      "                                               tweet  \n",
      "0  !!! RT @mayasolovely: As a woman you shouldn't...  \n",
      "1  !!!!! RT @mleew17: boy dats cold...tyga dwn ba...  \n",
      "2  !!!!!!! RT @UrKindOfBrand Dawg!!!! RT @80sbaby...  \n",
      "3  !!!!!!!!! RT @C_G_Anderson: @viva_based she lo...  \n",
      "4  !!!!!!!!!!!!! RT @ShenikaRoberts: The shit you...  \n",
      "1    19190\n",
      "2     4163\n",
      "0     1430\n",
      "Name: class, dtype: int64\n"
     ]
    }
   ],
   "source": [
    "print(txt_mdl_src.head())\n",
    "print(txt_mdl_src['class'].value_counts())\n"
   ]
  },
  {
   "cell_type": "markdown",
   "metadata": {
    "id": "7mb87dBpaBAq"
   },
   "source": [
    "## Data Preprocessing\n",
    "Using the patterns identified in EDA, the dataset is transformed into a ML model readable format."
   ]
  },
  {
   "cell_type": "markdown",
   "metadata": {
    "id": "Be0clBu_asC3"
   },
   "source": [
    "The text of the tweet is converted to lowercase and further processed by removing unnecessary charactors, urls, etc."
   ]
  },
  {
   "cell_type": "code",
   "execution_count": null,
   "metadata": {
    "id": "e2WcAiWEAruV"
   },
   "outputs": [],
   "source": [
    "txt_mdl_src['txt_mdl_src'] = txt_mdl_src['tweet'].str.lower()\n",
    "txt_mdl_src['txt_mdl_src'] = txt_mdl_src['txt_mdl_src'].apply(lambda src_sentence: src_sentence.replace('rt', ''))\n",
    "txt_mdl_src['txt_mdl_src'] = txt_mdl_src['txt_mdl_src'].apply(lambda src_sentence: re.sub(r'http\\S+', '', src_sentence))\n",
    "txt_mdl_src['txt_mdl_src'] = txt_mdl_src['txt_mdl_src'].apply(lambda src_sentence: re.sub(r'[^a-zA-Z\\s]', '', src_sentence))"
   ]
  },
  {
   "cell_type": "markdown",
   "metadata": {
    "id": "_qoIoFiobhai"
   },
   "source": [
    "The text is tokenized"
   ]
  },
  {
   "cell_type": "code",
   "execution_count": null,
   "metadata": {
    "id": "0QKMnuFSbjXy"
   },
   "outputs": [],
   "source": [
    "txt_mdl_src['txt_mdl_src'] = txt_mdl_src['txt_mdl_src'].apply(lambda src_sentence: word_tokenize(src_sentence))"
   ]
  },
  {
   "cell_type": "markdown",
   "metadata": {
    "id": "4O2-ykdObkJf"
   },
   "source": [
    "Stopwords are removed from the tokenized text and each token is stemmed to its root word."
   ]
  },
  {
   "cell_type": "code",
   "execution_count": null,
   "metadata": {
    "id": "2wmi1JWsb2N-"
   },
   "outputs": [],
   "source": [
    "stop_words = set(stopwords.words('english'))\n",
    "txt_mdl_src['txt_mdl_src'] = txt_mdl_src['txt_mdl_src'].apply(lambda src_sentence: [word for word in src_sentence if word not in stop_words])\n",
    "stemmer = nltk.SnowballStemmer(language='english')\n",
    "txt_mdl_src['txt_mdl_src'] = txt_mdl_src['txt_mdl_src'].apply(lambda src_sentence: [stemmer.stem(word) for word in src_sentence])"
   ]
  },
  {
   "cell_type": "code",
   "execution_count": null,
   "metadata": {
    "id": "rEODgGFscbLF"
   },
   "outputs": [],
   "source": [
    "txt_mdl_src['txt_mdl_src'] = txt_mdl_src['txt_mdl_src'].apply(lambda src_sentence_word: ' '.join(src_sentence_word))"
   ]
  },
  {
   "cell_type": "code",
   "execution_count": null,
   "metadata": {
    "id": "3U4E8sKtAto9"
   },
   "outputs": [],
   "source": [
    "txt_mdl_src['tweets_deep_learning_txt'] = txt_mdl_src['txt_mdl_src'].apply(lambda src_sentence: src_sentence.split())"
   ]
  },
  {
   "cell_type": "markdown",
   "metadata": {
    "id": "8drTBitZdBIB"
   },
   "source": [
    "## Feature Engineering\n",
    "The cleaned dataset can now be converted into the appropriate vector matrices for acting as model input."
   ]
  },
  {
   "cell_type": "markdown",
   "metadata": {
    "id": "nWq2j3lMdsYi"
   },
   "source": [
    "We are using the Tf-Idf vectorizer for creating input for the bag-of-words models which are SVM, Random Foreat, Multinomial Naive Bayes and Logistic Regression."
   ]
  },
  {
   "cell_type": "code",
   "execution_count": null,
   "metadata": {
    "id": "YLcnE4OzAvmV"
   },
   "outputs": [],
   "source": [
    "tfidf = TfidfVectorizer()\n",
    "bog_mdl_txt_data = tfidf.fit_transform(txt_mdl_src['txt_mdl_src'])\n",
    "bog_mdl_true_cls = txt_mdl_src['class']"
   ]
  },
  {
   "cell_type": "markdown",
   "metadata": {
    "id": "w35UDx-dmxAo"
   },
   "source": [
    "For the deep learning model we have used the word embeddings method to generate an input vector"
   ]
  },
  {
   "cell_type": "code",
   "execution_count": null,
   "metadata": {
    "colab": {
     "base_uri": "https://localhost:8080/"
    },
    "id": "U_NNhemIEo1L",
    "outputId": "6400d2a8-0e05-4b97-bdbe-95de8dfebeed"
   },
   "outputs": [
    {
     "name": "stdout",
     "output_type": "stream",
     "text": [
      "[[   0    0    0 ...   91   59   15]\n",
      " [   0    0    0 ...    2  465  392]\n",
      " [   0    0    0 ...  251  764   12]\n",
      " ...\n",
      " [   0    0    0 ...   14  110  263]\n",
      " [   0    0    0 ...    1 1760  203]\n",
      " [   0    0    0 ...  106   19   62]]\n"
     ]
    }
   ],
   "source": [
    "deep_lrng_tknzr = Tokenizer(num_words=5000)\n",
    "deep_lrng_tknzr.fit_on_texts(txt_mdl_src['tweets_deep_learning_txt'])\n",
    "tweet_txt_vector = deep_lrng_tknzr.texts_to_sequences(txt_mdl_src['tweets_deep_learning_txt'])\n",
    "tweets = pad_sequences(tweet_txt_vector, maxlen=200)\n",
    "print(tweets)"
   ]
  },
  {
   "cell_type": "code",
   "execution_count": null,
   "metadata": {
    "colab": {
     "base_uri": "https://localhost:8080/"
    },
    "id": "FdIKWylBEzQR",
    "outputId": "4452be06-91e3-4dd6-c8e3-dfbb074e99ba"
   },
   "outputs": [
    {
     "data": {
      "text/plain": [
       "24783"
      ]
     },
     "execution_count": 57,
     "metadata": {},
     "output_type": "execute_result"
    }
   ],
   "source": [
    "len(tweets)"
   ]
  },
  {
   "cell_type": "code",
   "execution_count": null,
   "metadata": {
    "id": "-YnqSR2VE1Fq"
   },
   "outputs": [],
   "source": [
    "dp_lrng_labels = numpy.array(txt_mdl_src['class'])\n",
    "temp = []\n",
    "for true_label_idx in range(len(dp_lrng_labels)):\n",
    "    if dp_lrng_labels[true_label_idx] == 2:\n",
    "        temp.append(2)\n",
    "    if dp_lrng_labels[true_label_idx] == 1:\n",
    "        temp.append(1)\n",
    "    if dp_lrng_labels[true_label_idx] == 0:\n",
    "        temp.append(0)\n",
    "temp = numpy.array(temp)\n",
    "dp_lrng_labels = tf.keras.utils.to_categorical(temp, 3, dtype=\"float32\")\n",
    "del temp"
   ]
  },
  {
   "cell_type": "markdown",
   "metadata": {
    "id": "nPBd3-PVeXn1"
   },
   "source": [
    "### Split the dataset into train set and test set\n",
    "The split is performed in a 80-20 ratio."
   ]
  },
  {
   "cell_type": "code",
   "execution_count": null,
   "metadata": {
    "id": "x_doOAR9Aymb"
   },
   "outputs": [],
   "source": [
    "bog_lr_input, bog_lr_pred_input, bog_true_lbl_lr, bog_true_pred_lr = train_test_split(bog_mdl_txt_data, bog_mdl_true_cls, test_size=0.2, random_state=42)\n",
    "bog_rf_input, bog_rf_pred_input, bog_true_lbl_rf, bog_true_pred_rf = train_test_split(bog_mdl_txt_data, bog_mdl_true_cls, test_size=0.2, random_state=42)\n",
    "bog_nb_input, bog_nb_pred_input, bog_true_lbl_nb, bog_true_pred_nb = train_test_split(bog_mdl_txt_data, bog_mdl_true_cls, test_size=0.2, random_state=42)\n",
    "bog_svm_input, bog_svm_pred_input, bog_true_lbl_svm, bog_true_pred_svm = train_test_split(bog_mdl_txt_data, bog_mdl_true_cls, test_size=0.2, random_state=42)"
   ]
  },
  {
   "cell_type": "markdown",
   "metadata": {
    "id": "0YA2Q3s9pxpm"
   },
   "source": [
    "Splitting the word embeddings into training set and test set"
   ]
  },
  {
   "cell_type": "code",
   "execution_count": null,
   "metadata": {
    "id": "EZFNKdg_E4Pi"
   },
   "outputs": [],
   "source": [
    "dp_mdl_input, dp_pred_mdl_input, dp_mdl_true, dp_pred_mdl_true = train_test_split(tweets,dp_lrng_labels, random_state=0)"
   ]
  },
  {
   "cell_type": "markdown",
   "metadata": {
    "id": "8SNYzoiIpdHj"
   },
   "source": [
    "## Model Training and Evaluation"
   ]
  },
  {
   "cell_type": "markdown",
   "metadata": {
    "id": "WqhSwSkCeuHa"
   },
   "source": [
    "### Bag-of-Words Model Initialization and Training"
   ]
  },
  {
   "cell_type": "markdown",
   "metadata": {
    "id": "rbDxSA_ZfCjr"
   },
   "source": [
    "#### Logistic Regression"
   ]
  },
  {
   "cell_type": "code",
   "execution_count": null,
   "metadata": {
    "colab": {
     "base_uri": "https://localhost:8080/",
     "height": 93
    },
    "id": "XdGtoe9meqn9",
    "outputId": "47dc257f-7c2a-44bb-b112-3a2da35310cb"
   },
   "outputs": [
    {
     "name": "stdout",
     "output_type": "stream",
     "text": [
      "[LibLinear]"
     ]
    },
    {
     "data": {
      "text/html": [
       "<style>#sk-container-id-5 {color: black;background-color: white;}#sk-container-id-5 pre{padding: 0;}#sk-container-id-5 div.sk-toggleable {background-color: white;}#sk-container-id-5 label.sk-toggleable__label {cursor: pointer;display: block;width: 100%;margin-bottom: 0;padding: 0.3em;box-sizing: border-box;text-align: center;}#sk-container-id-5 label.sk-toggleable__label-arrow:before {content: \"▸\";float: left;margin-right: 0.25em;color: #696969;}#sk-container-id-5 label.sk-toggleable__label-arrow:hover:before {color: black;}#sk-container-id-5 div.sk-estimator:hover label.sk-toggleable__label-arrow:before {color: black;}#sk-container-id-5 div.sk-toggleable__content {max-height: 0;max-width: 0;overflow: hidden;text-align: left;background-color: #f0f8ff;}#sk-container-id-5 div.sk-toggleable__content pre {margin: 0.2em;color: black;border-radius: 0.25em;background-color: #f0f8ff;}#sk-container-id-5 input.sk-toggleable__control:checked~div.sk-toggleable__content {max-height: 200px;max-width: 100%;overflow: auto;}#sk-container-id-5 input.sk-toggleable__control:checked~label.sk-toggleable__label-arrow:before {content: \"▾\";}#sk-container-id-5 div.sk-estimator input.sk-toggleable__control:checked~label.sk-toggleable__label {background-color: #d4ebff;}#sk-container-id-5 div.sk-label input.sk-toggleable__control:checked~label.sk-toggleable__label {background-color: #d4ebff;}#sk-container-id-5 input.sk-hidden--visually {border: 0;clip: rect(1px 1px 1px 1px);clip: rect(1px, 1px, 1px, 1px);height: 1px;margin: -1px;overflow: hidden;padding: 0;position: absolute;width: 1px;}#sk-container-id-5 div.sk-estimator {font-family: monospace;background-color: #f0f8ff;border: 1px dotted black;border-radius: 0.25em;box-sizing: border-box;margin-bottom: 0.5em;}#sk-container-id-5 div.sk-estimator:hover {background-color: #d4ebff;}#sk-container-id-5 div.sk-parallel-item::after {content: \"\";width: 100%;border-bottom: 1px solid gray;flex-grow: 1;}#sk-container-id-5 div.sk-label:hover label.sk-toggleable__label {background-color: #d4ebff;}#sk-container-id-5 div.sk-serial::before {content: \"\";position: absolute;border-left: 1px solid gray;box-sizing: border-box;top: 0;bottom: 0;left: 50%;z-index: 0;}#sk-container-id-5 div.sk-serial {display: flex;flex-direction: column;align-items: center;background-color: white;padding-right: 0.2em;padding-left: 0.2em;position: relative;}#sk-container-id-5 div.sk-item {position: relative;z-index: 1;}#sk-container-id-5 div.sk-parallel {display: flex;align-items: stretch;justify-content: center;background-color: white;position: relative;}#sk-container-id-5 div.sk-item::before, #sk-container-id-5 div.sk-parallel-item::before {content: \"\";position: absolute;border-left: 1px solid gray;box-sizing: border-box;top: 0;bottom: 0;left: 50%;z-index: -1;}#sk-container-id-5 div.sk-parallel-item {display: flex;flex-direction: column;z-index: 1;position: relative;background-color: white;}#sk-container-id-5 div.sk-parallel-item:first-child::after {align-self: flex-end;width: 50%;}#sk-container-id-5 div.sk-parallel-item:last-child::after {align-self: flex-start;width: 50%;}#sk-container-id-5 div.sk-parallel-item:only-child::after {width: 0;}#sk-container-id-5 div.sk-dashed-wrapped {border: 1px dashed gray;margin: 0 0.4em 0.5em 0.4em;box-sizing: border-box;padding-bottom: 0.4em;background-color: white;}#sk-container-id-5 div.sk-label label {font-family: monospace;font-weight: bold;display: inline-block;line-height: 1.2em;}#sk-container-id-5 div.sk-label-container {text-align: center;}#sk-container-id-5 div.sk-container {/* jupyter's `normalize.less` sets `[hidden] { display: none; }` but bootstrap.min.css set `[hidden] { display: none !important; }` so we also need the `!important` here to be able to override the default hidden behavior on the sphinx rendered scikit-learn.org. See: https://github.com/scikit-learn/scikit-learn/issues/21755 */display: inline-block !important;position: relative;}#sk-container-id-5 div.sk-text-repr-fallback {display: none;}</style><div id=\"sk-container-id-5\" class=\"sk-top-container\"><div class=\"sk-text-repr-fallback\"><pre>LogisticRegression(C=5, random_state=0, solver=&#x27;liblinear&#x27;, verbose=1)</pre><b>In a Jupyter environment, please rerun this cell to show the HTML representation or trust the notebook. <br />On GitHub, the HTML representation is unable to render, please try loading this page with nbviewer.org.</b></div><div class=\"sk-container\" hidden><div class=\"sk-item\"><div class=\"sk-estimator sk-toggleable\"><input class=\"sk-toggleable__control sk-hidden--visually\" id=\"sk-estimator-id-5\" type=\"checkbox\" checked><label for=\"sk-estimator-id-5\" class=\"sk-toggleable__label sk-toggleable__label-arrow\">LogisticRegression</label><div class=\"sk-toggleable__content\"><pre>LogisticRegression(C=5, random_state=0, solver=&#x27;liblinear&#x27;, verbose=1)</pre></div></div></div></div></div>"
      ],
      "text/plain": [
       "LogisticRegression(C=5, random_state=0, solver='liblinear', verbose=1)"
      ]
     },
     "execution_count": 61,
     "metadata": {},
     "output_type": "execute_result"
    }
   ],
   "source": [
    "lgstc_rgr_mdl = LogisticRegression(verbose=1, solver='liblinear', random_state=0, C=5)\n",
    "lgstc_rgr_mdl.fit(bog_lr_input, bog_true_lbl_lr)"
   ]
  },
  {
   "cell_type": "markdown",
   "metadata": {
    "id": "_ASVong7gO-r"
   },
   "source": [
    "#### Random Forest"
   ]
  },
  {
   "cell_type": "code",
   "execution_count": null,
   "metadata": {
    "colab": {
     "base_uri": "https://localhost:8080/",
     "height": 75
    },
    "id": "7VRcMvuLe_JK",
    "outputId": "6d7c7d58-8ac2-4cc6-b626-bbea3d870865"
   },
   "outputs": [
    {
     "data": {
      "text/html": [
       "<style>#sk-container-id-6 {color: black;background-color: white;}#sk-container-id-6 pre{padding: 0;}#sk-container-id-6 div.sk-toggleable {background-color: white;}#sk-container-id-6 label.sk-toggleable__label {cursor: pointer;display: block;width: 100%;margin-bottom: 0;padding: 0.3em;box-sizing: border-box;text-align: center;}#sk-container-id-6 label.sk-toggleable__label-arrow:before {content: \"▸\";float: left;margin-right: 0.25em;color: #696969;}#sk-container-id-6 label.sk-toggleable__label-arrow:hover:before {color: black;}#sk-container-id-6 div.sk-estimator:hover label.sk-toggleable__label-arrow:before {color: black;}#sk-container-id-6 div.sk-toggleable__content {max-height: 0;max-width: 0;overflow: hidden;text-align: left;background-color: #f0f8ff;}#sk-container-id-6 div.sk-toggleable__content pre {margin: 0.2em;color: black;border-radius: 0.25em;background-color: #f0f8ff;}#sk-container-id-6 input.sk-toggleable__control:checked~div.sk-toggleable__content {max-height: 200px;max-width: 100%;overflow: auto;}#sk-container-id-6 input.sk-toggleable__control:checked~label.sk-toggleable__label-arrow:before {content: \"▾\";}#sk-container-id-6 div.sk-estimator input.sk-toggleable__control:checked~label.sk-toggleable__label {background-color: #d4ebff;}#sk-container-id-6 div.sk-label input.sk-toggleable__control:checked~label.sk-toggleable__label {background-color: #d4ebff;}#sk-container-id-6 input.sk-hidden--visually {border: 0;clip: rect(1px 1px 1px 1px);clip: rect(1px, 1px, 1px, 1px);height: 1px;margin: -1px;overflow: hidden;padding: 0;position: absolute;width: 1px;}#sk-container-id-6 div.sk-estimator {font-family: monospace;background-color: #f0f8ff;border: 1px dotted black;border-radius: 0.25em;box-sizing: border-box;margin-bottom: 0.5em;}#sk-container-id-6 div.sk-estimator:hover {background-color: #d4ebff;}#sk-container-id-6 div.sk-parallel-item::after {content: \"\";width: 100%;border-bottom: 1px solid gray;flex-grow: 1;}#sk-container-id-6 div.sk-label:hover label.sk-toggleable__label {background-color: #d4ebff;}#sk-container-id-6 div.sk-serial::before {content: \"\";position: absolute;border-left: 1px solid gray;box-sizing: border-box;top: 0;bottom: 0;left: 50%;z-index: 0;}#sk-container-id-6 div.sk-serial {display: flex;flex-direction: column;align-items: center;background-color: white;padding-right: 0.2em;padding-left: 0.2em;position: relative;}#sk-container-id-6 div.sk-item {position: relative;z-index: 1;}#sk-container-id-6 div.sk-parallel {display: flex;align-items: stretch;justify-content: center;background-color: white;position: relative;}#sk-container-id-6 div.sk-item::before, #sk-container-id-6 div.sk-parallel-item::before {content: \"\";position: absolute;border-left: 1px solid gray;box-sizing: border-box;top: 0;bottom: 0;left: 50%;z-index: -1;}#sk-container-id-6 div.sk-parallel-item {display: flex;flex-direction: column;z-index: 1;position: relative;background-color: white;}#sk-container-id-6 div.sk-parallel-item:first-child::after {align-self: flex-end;width: 50%;}#sk-container-id-6 div.sk-parallel-item:last-child::after {align-self: flex-start;width: 50%;}#sk-container-id-6 div.sk-parallel-item:only-child::after {width: 0;}#sk-container-id-6 div.sk-dashed-wrapped {border: 1px dashed gray;margin: 0 0.4em 0.5em 0.4em;box-sizing: border-box;padding-bottom: 0.4em;background-color: white;}#sk-container-id-6 div.sk-label label {font-family: monospace;font-weight: bold;display: inline-block;line-height: 1.2em;}#sk-container-id-6 div.sk-label-container {text-align: center;}#sk-container-id-6 div.sk-container {/* jupyter's `normalize.less` sets `[hidden] { display: none; }` but bootstrap.min.css set `[hidden] { display: none !important; }` so we also need the `!important` here to be able to override the default hidden behavior on the sphinx rendered scikit-learn.org. See: https://github.com/scikit-learn/scikit-learn/issues/21755 */display: inline-block !important;position: relative;}#sk-container-id-6 div.sk-text-repr-fallback {display: none;}</style><div id=\"sk-container-id-6\" class=\"sk-top-container\"><div class=\"sk-text-repr-fallback\"><pre>RandomForestClassifier(random_state=0)</pre><b>In a Jupyter environment, please rerun this cell to show the HTML representation or trust the notebook. <br />On GitHub, the HTML representation is unable to render, please try loading this page with nbviewer.org.</b></div><div class=\"sk-container\" hidden><div class=\"sk-item\"><div class=\"sk-estimator sk-toggleable\"><input class=\"sk-toggleable__control sk-hidden--visually\" id=\"sk-estimator-id-6\" type=\"checkbox\" checked><label for=\"sk-estimator-id-6\" class=\"sk-toggleable__label sk-toggleable__label-arrow\">RandomForestClassifier</label><div class=\"sk-toggleable__content\"><pre>RandomForestClassifier(random_state=0)</pre></div></div></div></div></div>"
      ],
      "text/plain": [
       "RandomForestClassifier(random_state=0)"
      ]
     },
     "execution_count": 62,
     "metadata": {},
     "output_type": "execute_result"
    }
   ],
   "source": [
    "rndm_frst_mdl = RandomForestClassifier(random_state=0)\n",
    "rndm_frst_mdl.fit(bog_rf_input, bog_true_lbl_rf)"
   ]
  },
  {
   "cell_type": "markdown",
   "metadata": {
    "id": "P1LPl0s9gSDh"
   },
   "source": [
    "#### Multinomial Naive Bayes"
   ]
  },
  {
   "cell_type": "code",
   "execution_count": null,
   "metadata": {
    "colab": {
     "base_uri": "https://localhost:8080/",
     "height": 75
    },
    "id": "mIjql5s8f6mi",
    "outputId": "63049986-4947-4840-9bfe-0e004a17d0ee"
   },
   "outputs": [
    {
     "data": {
      "text/html": [
       "<style>#sk-container-id-7 {color: black;background-color: white;}#sk-container-id-7 pre{padding: 0;}#sk-container-id-7 div.sk-toggleable {background-color: white;}#sk-container-id-7 label.sk-toggleable__label {cursor: pointer;display: block;width: 100%;margin-bottom: 0;padding: 0.3em;box-sizing: border-box;text-align: center;}#sk-container-id-7 label.sk-toggleable__label-arrow:before {content: \"▸\";float: left;margin-right: 0.25em;color: #696969;}#sk-container-id-7 label.sk-toggleable__label-arrow:hover:before {color: black;}#sk-container-id-7 div.sk-estimator:hover label.sk-toggleable__label-arrow:before {color: black;}#sk-container-id-7 div.sk-toggleable__content {max-height: 0;max-width: 0;overflow: hidden;text-align: left;background-color: #f0f8ff;}#sk-container-id-7 div.sk-toggleable__content pre {margin: 0.2em;color: black;border-radius: 0.25em;background-color: #f0f8ff;}#sk-container-id-7 input.sk-toggleable__control:checked~div.sk-toggleable__content {max-height: 200px;max-width: 100%;overflow: auto;}#sk-container-id-7 input.sk-toggleable__control:checked~label.sk-toggleable__label-arrow:before {content: \"▾\";}#sk-container-id-7 div.sk-estimator input.sk-toggleable__control:checked~label.sk-toggleable__label {background-color: #d4ebff;}#sk-container-id-7 div.sk-label input.sk-toggleable__control:checked~label.sk-toggleable__label {background-color: #d4ebff;}#sk-container-id-7 input.sk-hidden--visually {border: 0;clip: rect(1px 1px 1px 1px);clip: rect(1px, 1px, 1px, 1px);height: 1px;margin: -1px;overflow: hidden;padding: 0;position: absolute;width: 1px;}#sk-container-id-7 div.sk-estimator {font-family: monospace;background-color: #f0f8ff;border: 1px dotted black;border-radius: 0.25em;box-sizing: border-box;margin-bottom: 0.5em;}#sk-container-id-7 div.sk-estimator:hover {background-color: #d4ebff;}#sk-container-id-7 div.sk-parallel-item::after {content: \"\";width: 100%;border-bottom: 1px solid gray;flex-grow: 1;}#sk-container-id-7 div.sk-label:hover label.sk-toggleable__label {background-color: #d4ebff;}#sk-container-id-7 div.sk-serial::before {content: \"\";position: absolute;border-left: 1px solid gray;box-sizing: border-box;top: 0;bottom: 0;left: 50%;z-index: 0;}#sk-container-id-7 div.sk-serial {display: flex;flex-direction: column;align-items: center;background-color: white;padding-right: 0.2em;padding-left: 0.2em;position: relative;}#sk-container-id-7 div.sk-item {position: relative;z-index: 1;}#sk-container-id-7 div.sk-parallel {display: flex;align-items: stretch;justify-content: center;background-color: white;position: relative;}#sk-container-id-7 div.sk-item::before, #sk-container-id-7 div.sk-parallel-item::before {content: \"\";position: absolute;border-left: 1px solid gray;box-sizing: border-box;top: 0;bottom: 0;left: 50%;z-index: -1;}#sk-container-id-7 div.sk-parallel-item {display: flex;flex-direction: column;z-index: 1;position: relative;background-color: white;}#sk-container-id-7 div.sk-parallel-item:first-child::after {align-self: flex-end;width: 50%;}#sk-container-id-7 div.sk-parallel-item:last-child::after {align-self: flex-start;width: 50%;}#sk-container-id-7 div.sk-parallel-item:only-child::after {width: 0;}#sk-container-id-7 div.sk-dashed-wrapped {border: 1px dashed gray;margin: 0 0.4em 0.5em 0.4em;box-sizing: border-box;padding-bottom: 0.4em;background-color: white;}#sk-container-id-7 div.sk-label label {font-family: monospace;font-weight: bold;display: inline-block;line-height: 1.2em;}#sk-container-id-7 div.sk-label-container {text-align: center;}#sk-container-id-7 div.sk-container {/* jupyter's `normalize.less` sets `[hidden] { display: none; }` but bootstrap.min.css set `[hidden] { display: none !important; }` so we also need the `!important` here to be able to override the default hidden behavior on the sphinx rendered scikit-learn.org. See: https://github.com/scikit-learn/scikit-learn/issues/21755 */display: inline-block !important;position: relative;}#sk-container-id-7 div.sk-text-repr-fallback {display: none;}</style><div id=\"sk-container-id-7\" class=\"sk-top-container\"><div class=\"sk-text-repr-fallback\"><pre>MultinomialNB()</pre><b>In a Jupyter environment, please rerun this cell to show the HTML representation or trust the notebook. <br />On GitHub, the HTML representation is unable to render, please try loading this page with nbviewer.org.</b></div><div class=\"sk-container\" hidden><div class=\"sk-item\"><div class=\"sk-estimator sk-toggleable\"><input class=\"sk-toggleable__control sk-hidden--visually\" id=\"sk-estimator-id-7\" type=\"checkbox\" checked><label for=\"sk-estimator-id-7\" class=\"sk-toggleable__label sk-toggleable__label-arrow\">MultinomialNB</label><div class=\"sk-toggleable__content\"><pre>MultinomialNB()</pre></div></div></div></div></div>"
      ],
      "text/plain": [
       "MultinomialNB()"
      ]
     },
     "execution_count": 63,
     "metadata": {},
     "output_type": "execute_result"
    }
   ],
   "source": [
    "nv_base_mdl = MultinomialNB(alpha=1.0)\n",
    "nv_base_mdl.fit(bog_nb_input, bog_true_lbl_nb)"
   ]
  },
  {
   "cell_type": "markdown",
   "metadata": {
    "id": "4hyXjOJHgS4I"
   },
   "source": [
    "#### Support Vector Machine"
   ]
  },
  {
   "cell_type": "code",
   "execution_count": null,
   "metadata": {
    "colab": {
     "base_uri": "https://localhost:8080/",
     "height": 75
    },
    "id": "c_hKL1GZgLYm",
    "outputId": "141cbfe2-5f3c-4f18-ddcb-32772aed101b"
   },
   "outputs": [
    {
     "data": {
      "text/html": [
       "<style>#sk-container-id-8 {color: black;background-color: white;}#sk-container-id-8 pre{padding: 0;}#sk-container-id-8 div.sk-toggleable {background-color: white;}#sk-container-id-8 label.sk-toggleable__label {cursor: pointer;display: block;width: 100%;margin-bottom: 0;padding: 0.3em;box-sizing: border-box;text-align: center;}#sk-container-id-8 label.sk-toggleable__label-arrow:before {content: \"▸\";float: left;margin-right: 0.25em;color: #696969;}#sk-container-id-8 label.sk-toggleable__label-arrow:hover:before {color: black;}#sk-container-id-8 div.sk-estimator:hover label.sk-toggleable__label-arrow:before {color: black;}#sk-container-id-8 div.sk-toggleable__content {max-height: 0;max-width: 0;overflow: hidden;text-align: left;background-color: #f0f8ff;}#sk-container-id-8 div.sk-toggleable__content pre {margin: 0.2em;color: black;border-radius: 0.25em;background-color: #f0f8ff;}#sk-container-id-8 input.sk-toggleable__control:checked~div.sk-toggleable__content {max-height: 200px;max-width: 100%;overflow: auto;}#sk-container-id-8 input.sk-toggleable__control:checked~label.sk-toggleable__label-arrow:before {content: \"▾\";}#sk-container-id-8 div.sk-estimator input.sk-toggleable__control:checked~label.sk-toggleable__label {background-color: #d4ebff;}#sk-container-id-8 div.sk-label input.sk-toggleable__control:checked~label.sk-toggleable__label {background-color: #d4ebff;}#sk-container-id-8 input.sk-hidden--visually {border: 0;clip: rect(1px 1px 1px 1px);clip: rect(1px, 1px, 1px, 1px);height: 1px;margin: -1px;overflow: hidden;padding: 0;position: absolute;width: 1px;}#sk-container-id-8 div.sk-estimator {font-family: monospace;background-color: #f0f8ff;border: 1px dotted black;border-radius: 0.25em;box-sizing: border-box;margin-bottom: 0.5em;}#sk-container-id-8 div.sk-estimator:hover {background-color: #d4ebff;}#sk-container-id-8 div.sk-parallel-item::after {content: \"\";width: 100%;border-bottom: 1px solid gray;flex-grow: 1;}#sk-container-id-8 div.sk-label:hover label.sk-toggleable__label {background-color: #d4ebff;}#sk-container-id-8 div.sk-serial::before {content: \"\";position: absolute;border-left: 1px solid gray;box-sizing: border-box;top: 0;bottom: 0;left: 50%;z-index: 0;}#sk-container-id-8 div.sk-serial {display: flex;flex-direction: column;align-items: center;background-color: white;padding-right: 0.2em;padding-left: 0.2em;position: relative;}#sk-container-id-8 div.sk-item {position: relative;z-index: 1;}#sk-container-id-8 div.sk-parallel {display: flex;align-items: stretch;justify-content: center;background-color: white;position: relative;}#sk-container-id-8 div.sk-item::before, #sk-container-id-8 div.sk-parallel-item::before {content: \"\";position: absolute;border-left: 1px solid gray;box-sizing: border-box;top: 0;bottom: 0;left: 50%;z-index: -1;}#sk-container-id-8 div.sk-parallel-item {display: flex;flex-direction: column;z-index: 1;position: relative;background-color: white;}#sk-container-id-8 div.sk-parallel-item:first-child::after {align-self: flex-end;width: 50%;}#sk-container-id-8 div.sk-parallel-item:last-child::after {align-self: flex-start;width: 50%;}#sk-container-id-8 div.sk-parallel-item:only-child::after {width: 0;}#sk-container-id-8 div.sk-dashed-wrapped {border: 1px dashed gray;margin: 0 0.4em 0.5em 0.4em;box-sizing: border-box;padding-bottom: 0.4em;background-color: white;}#sk-container-id-8 div.sk-label label {font-family: monospace;font-weight: bold;display: inline-block;line-height: 1.2em;}#sk-container-id-8 div.sk-label-container {text-align: center;}#sk-container-id-8 div.sk-container {/* jupyter's `normalize.less` sets `[hidden] { display: none; }` but bootstrap.min.css set `[hidden] { display: none !important; }` so we also need the `!important` here to be able to override the default hidden behavior on the sphinx rendered scikit-learn.org. See: https://github.com/scikit-learn/scikit-learn/issues/21755 */display: inline-block !important;position: relative;}#sk-container-id-8 div.sk-text-repr-fallback {display: none;}</style><div id=\"sk-container-id-8\" class=\"sk-top-container\"><div class=\"sk-text-repr-fallback\"><pre>SVC(kernel=&#x27;linear&#x27;, random_state=0)</pre><b>In a Jupyter environment, please rerun this cell to show the HTML representation or trust the notebook. <br />On GitHub, the HTML representation is unable to render, please try loading this page with nbviewer.org.</b></div><div class=\"sk-container\" hidden><div class=\"sk-item\"><div class=\"sk-estimator sk-toggleable\"><input class=\"sk-toggleable__control sk-hidden--visually\" id=\"sk-estimator-id-8\" type=\"checkbox\" checked><label for=\"sk-estimator-id-8\" class=\"sk-toggleable__label sk-toggleable__label-arrow\">SVC</label><div class=\"sk-toggleable__content\"><pre>SVC(kernel=&#x27;linear&#x27;, random_state=0)</pre></div></div></div></div></div>"
      ],
      "text/plain": [
       "SVC(kernel='linear', random_state=0)"
      ]
     },
     "execution_count": 64,
     "metadata": {},
     "output_type": "execute_result"
    }
   ],
   "source": [
    "svm_mdl = SVC(kernel='linear', random_state=0)\n",
    "svm_mdl.fit(bog_svm_input, bog_true_lbl_svm)"
   ]
  },
  {
   "cell_type": "markdown",
   "metadata": {
    "id": "qWacpA2JgfYr"
   },
   "source": [
    "### Bag-of-Words Model Evaluation and Visualization"
   ]
  },
  {
   "cell_type": "markdown",
   "metadata": {
    "id": "Su6p7zgegh8P"
   },
   "source": [
    "The classifications from the above models are obtained"
   ]
  },
  {
   "cell_type": "code",
   "execution_count": null,
   "metadata": {
    "id": "MY7lrDxyfrZ1"
   },
   "outputs": [],
   "source": [
    "lgstc_rgr_mdl_output = lgstc_rgr_mdl.predict(bog_lr_pred_input)\n",
    "rndm_frst_mdl_output = rndm_frst_mdl.predict(bog_rf_pred_input)\n",
    "nv_base_mdl_output = nv_base_mdl.predict(bog_nb_pred_input)\n",
    "svm_mdl_output = svm_mdl.predict(bog_svm_pred_input)"
   ]
  },
  {
   "cell_type": "markdown",
   "metadata": {
    "id": "oQdHU2augxVp"
   },
   "source": [
    "Printing the classification report for each model for better understanding"
   ]
  },
  {
   "cell_type": "code",
   "execution_count": null,
   "metadata": {
    "colab": {
     "base_uri": "https://localhost:8080/"
    },
    "id": "aUX1d57SBo4G",
    "outputId": "28c9da31-47f7-4829-996e-1a8d482d61b8"
   },
   "outputs": [
    {
     "name": "stdout",
     "output_type": "stream",
     "text": [
      "Logistic Regression Classification Report:\n",
      "              precision    recall  f1-score   support\n",
      "\n",
      "           0       0.50      0.19      0.28       290\n",
      "           1       0.91      0.96      0.94      3832\n",
      "           2       0.83      0.83      0.83       835\n",
      "\n",
      "    accuracy                           0.89      4957\n",
      "   macro avg       0.75      0.66      0.68      4957\n",
      "weighted avg       0.88      0.89      0.88      4957\n",
      "\n",
      "Random Forest Classification Report:\n",
      "              precision    recall  f1-score   support\n",
      "\n",
      "           0       0.58      0.10      0.18       290\n",
      "           1       0.90      0.97      0.93      3832\n",
      "           2       0.85      0.78      0.81       835\n",
      "\n",
      "    accuracy                           0.89      4957\n",
      "   macro avg       0.78      0.62      0.64      4957\n",
      "weighted avg       0.87      0.89      0.87      4957\n",
      "\n",
      "Multinomial Naive Bayes Classification Report:\n",
      "              precision    recall  f1-score   support\n",
      "\n",
      "           0       1.00      0.00      0.00       290\n",
      "           1       0.79      1.00      0.88      3832\n",
      "           2       0.94      0.14      0.25       835\n",
      "\n",
      "    accuracy                           0.80      4957\n",
      "   macro avg       0.91      0.38      0.38      4957\n",
      "weighted avg       0.83      0.80      0.72      4957\n",
      "\n",
      "SVM Classification Report:\n",
      "              precision    recall  f1-score   support\n",
      "\n",
      "           0       0.51      0.13      0.20       290\n",
      "           1       0.92      0.96      0.94      3832\n",
      "           2       0.83      0.89      0.86       835\n",
      "\n",
      "    accuracy                           0.90      4957\n",
      "   macro avg       0.76      0.66      0.67      4957\n",
      "weighted avg       0.88      0.90      0.89      4957\n",
      "\n"
     ]
    }
   ],
   "source": [
    "print(\"Logistic Regression Classification Report:\\n\"+classification_report(bog_true_pred_lr, lgstc_rgr_mdl_output, zero_division=1))\n",
    "print(\"Random Forest Classification Report:\\n\"+classification_report(bog_true_pred_rf, rndm_frst_mdl_output, zero_division=1))\n",
    "print(\"Multinomial Naive Bayes Classification Report:\\n\"+classification_report(bog_true_pred_nb, nv_base_mdl_output, zero_division=1))\n",
    "print(\"SVM Classification Report:\\n\"+classification_report(bog_true_pred_svm, svm_mdl_output, zero_division=1))"
   ]
  },
  {
   "cell_type": "code",
   "execution_count": null,
   "metadata": {
    "colab": {
     "base_uri": "https://localhost:8080/",
     "height": 483
    },
    "id": "7a9ZBxtHBwP_",
    "outputId": "3c6c1ac8-685c-4c38-b261-f968fdaea6c1"
   },
   "outputs": [
    {
     "data": {
      "image/png": "[encoded data removed]",
      "text/plain": [
       "<Figure size 1000x600 with 1 Axes>"
      ]
     },
     "metadata": {},
     "output_type": "display_data"
    }
   ],
   "source": [
    "models = ['Logistic Regression', 'Random Forest', 'Multinomial Naive Bayes', 'SVM']\n",
    "accuracies = [accuracy_score(bog_true_pred_lr, lgstc_rgr_mdl_output), accuracy_score(bog_true_pred_rf, rndm_frst_mdl_output), accuracy_score(bog_true_pred_nb, nv_base_mdl_output), accuracy_score(bog_true_pred_svm, svm_mdl_output)]\n",
    "plt.figure(figsize=(10, 6))\n",
    "plt.barh(models, accuracies, color='skyblue')\n",
    "plt.xlabel('Model Accuracy')\n",
    "plt.ylabel('Models')\n",
    "plt.title('Bag-of-Words Model Accuracy Comparison')\n",
    "plt.xlim(0, 1)\n",
    "for index, value in enumerate(accuracies):\n",
    "    plt.text(value, index, f\"{value:.3f}\", ha='left', va='center')\n",
    "plt.show()\n"
   ]
  },
  {
   "cell_type": "code",
   "execution_count": null,
   "metadata": {
    "colab": {
     "base_uri": "https://localhost:8080/"
    },
    "id": "YLXskz8SDK2g",
    "outputId": "5105a60f-cd68-4d33-b140-924c7a79c9e7"
   },
   "outputs": [
    {
     "name": "stdout",
     "output_type": "stream",
     "text": [
      "                     Model  Accuracy  Precision    Recall  F1-Score\n",
      "0      Logistic Regression  0.891063   0.876095  0.891063  0.879204\n",
      "1            Random Forest  0.888441   0.872273  0.888441  0.869433\n",
      "2  Multinomial Naive Bayes  0.796248   0.829018  0.796248  0.724941\n",
      "3                      SVM  0.900746   0.883849  0.900746  0.885021\n"
     ]
    }
   ],
   "source": [
    "metric_average_param = 'weighted'\n",
    "metric_zero_div = 1\n",
    "bog_mdl_precisions = [precision_score(bog_true_pred_lr, lgstc_rgr_mdl_output, average=metric_average_param, zero_division=metric_zero_div),\n",
    "             precision_score(bog_true_pred_rf, rndm_frst_mdl_output, average=metric_average_param, zero_division=metric_zero_div),\n",
    "             precision_score(bog_true_pred_nb, nv_base_mdl_output, average=metric_average_param, zero_division=metric_zero_div),\n",
    "             precision_score(bog_true_pred_svm, svm_mdl_output, average=metric_average_param, zero_division=metric_zero_div)]\n",
    "bog_mdl_recalls = [recall_score(bog_true_pred_lr, lgstc_rgr_mdl_output, average=metric_average_param, zero_division=metric_zero_div),\n",
    "          recall_score(bog_true_pred_rf, rndm_frst_mdl_output, average=metric_average_param, zero_division=metric_zero_div),\n",
    "          recall_score(bog_true_pred_nb, nv_base_mdl_output, average=metric_average_param, zero_division=metric_zero_div),\n",
    "          recall_score(bog_true_pred_svm, svm_mdl_output, average=metric_average_param, zero_division=metric_zero_div)]\n",
    "bog_mdl_f1scores = [f1_score(bog_true_pred_lr, lgstc_rgr_mdl_output, average=metric_average_param, zero_division=metric_zero_div),\n",
    "      f1_score(bog_true_pred_rf, rndm_frst_mdl_output, average=metric_average_param, zero_division=metric_zero_div),\n",
    "      f1_score(bog_true_pred_nb, nv_base_mdl_output, average=metric_average_param, zero_division=metric_zero_div),\n",
    "      f1_score(bog_true_pred_svm, svm_mdl_output, average=metric_average_param, zero_division=metric_zero_div)]\n",
    "data = {'Model': models, 'Accuracy': accuracies, 'Precision': bog_mdl_precisions, 'Recall': bog_mdl_recalls, 'F1-Score': bog_mdl_f1scores}\n",
    "bog_mdl_comparisons = pandas.DataFrame(data)\n",
    "print(bog_mdl_comparisons)\n"
   ]
  },
  {
   "cell_type": "markdown",
   "metadata": {
    "id": "YbuhPL2smhRI"
   },
   "source": [
    "### Deep Learning Model Initialization"
   ]
  },
  {
   "cell_type": "markdown",
   "metadata": {
    "id": "BdfuPl68p227"
   },
   "source": [
    "Creating a keras model and training it on the above generated word embeddings"
   ]
  },
  {
   "cell_type": "code",
   "execution_count": null,
   "metadata": {
    "colab": {
     "base_uri": "https://localhost:8080/"
    },
    "id": "wZh2uHBWE6To",
    "outputId": "0ef27779-49f2-4706-8bb3-540642165fbf"
   },
   "outputs": [
    {
     "name": "stderr",
     "output_type": "stream",
     "text": [
      "WARNING:tensorflow:`period` argument is deprecated. Please use `save_freq` to specify the frequency in number of batches seen.\n"
     ]
    },
    {
     "name": "stdout",
     "output_type": "stream",
     "text": [
      "Epoch 1/12\n",
      "581/581 [==============================] - ETA: 0s - loss: 0.4720 - accuracy: 0.8346\n",
      "Epoch 1: val_accuracy improved from -inf to 0.88460, saving model to mdl.hdf5\n",
      "581/581 [==============================] - 106s 175ms/step - loss: 0.4720 - accuracy: 0.8346 - val_loss: 0.3424 - val_accuracy: 0.8846\n",
      "Epoch 2/12\n",
      "581/581 [==============================] - ETA: 0s - loss: 0.3281 - accuracy: 0.8895\n",
      "Epoch 2: val_accuracy improved from 0.88460 to 0.89170, saving model to mdl.hdf5\n",
      "581/581 [==============================] - 103s 177ms/step - loss: 0.3281 - accuracy: 0.8895 - val_loss: 0.3166 - val_accuracy: 0.8917\n",
      "Epoch 3/12\n",
      "581/581 [==============================] - ETA: 0s - loss: 0.2976 - accuracy: 0.8992\n",
      "Epoch 3: val_accuracy improved from 0.89170 to 0.89606, saving model to mdl.hdf5\n",
      "581/581 [==============================] - 108s 187ms/step - loss: 0.2976 - accuracy: 0.8992 - val_loss: 0.2885 - val_accuracy: 0.8961\n",
      "Epoch 4/12\n",
      "581/581 [==============================] - ETA: 0s - loss: 0.2734 - accuracy: 0.9032\n",
      "Epoch 4: val_accuracy improved from 0.89606 to 0.89929, saving model to mdl.hdf5\n",
      "581/581 [==============================] - 100s 173ms/step - loss: 0.2734 - accuracy: 0.9032 - val_loss: 0.2757 - val_accuracy: 0.8993\n",
      "Epoch 5/12\n",
      "581/581 [==============================] - ETA: 0s - loss: 0.2592 - accuracy: 0.9113\n",
      "Epoch 5: val_accuracy did not improve from 0.89929\n",
      "581/581 [==============================] - 102s 175ms/step - loss: 0.2592 - accuracy: 0.9113 - val_loss: 0.2827 - val_accuracy: 0.8993\n",
      "Epoch 6/12\n",
      "581/581 [==============================] - ETA: 0s - loss: 0.2548 - accuracy: 0.9120\n",
      "Epoch 6: val_accuracy improved from 0.89929 to 0.90107, saving model to mdl.hdf5\n",
      "581/581 [==============================] - 111s 191ms/step - loss: 0.2548 - accuracy: 0.9120 - val_loss: 0.2765 - val_accuracy: 0.9011\n",
      "Epoch 7/12\n",
      "581/581 [==============================] - ETA: 0s - loss: 0.2483 - accuracy: 0.9168\n",
      "Epoch 7: val_accuracy improved from 0.90107 to 0.90252, saving model to mdl.hdf5\n",
      "581/581 [==============================] - 101s 174ms/step - loss: 0.2483 - accuracy: 0.9168 - val_loss: 0.2761 - val_accuracy: 0.9025\n",
      "Epoch 8/12\n",
      "581/581 [==============================] - ETA: 0s - loss: 0.2426 - accuracy: 0.9182\n",
      "Epoch 8: val_accuracy did not improve from 0.90252\n",
      "581/581 [==============================] - 102s 176ms/step - loss: 0.2426 - accuracy: 0.9182 - val_loss: 0.2770 - val_accuracy: 0.9019\n",
      "Epoch 9/12\n",
      "581/581 [==============================] - ETA: 0s - loss: 0.2401 - accuracy: 0.9188\n",
      "Epoch 9: val_accuracy improved from 0.90252 to 0.90397, saving model to mdl.hdf5\n",
      "581/581 [==============================] - 97s 167ms/step - loss: 0.2401 - accuracy: 0.9188 - val_loss: 0.2838 - val_accuracy: 0.9040\n",
      "Epoch 10/12\n",
      "581/581 [==============================] - ETA: 0s - loss: 0.2376 - accuracy: 0.9199\n",
      "Epoch 10: val_accuracy did not improve from 0.90397\n",
      "581/581 [==============================] - 101s 174ms/step - loss: 0.2376 - accuracy: 0.9199 - val_loss: 0.2763 - val_accuracy: 0.9022\n",
      "Epoch 11/12\n",
      "581/581 [==============================] - ETA: 0s - loss: 0.2347 - accuracy: 0.9202\n",
      "Epoch 11: val_accuracy did not improve from 0.90397\n",
      "581/581 [==============================] - 98s 169ms/step - loss: 0.2347 - accuracy: 0.9202 - val_loss: 0.2793 - val_accuracy: 0.9030\n",
      "Epoch 12/12\n",
      "581/581 [==============================] - ETA: 0s - loss: 0.2304 - accuracy: 0.9244\n",
      "Epoch 12: val_accuracy did not improve from 0.90397\n",
      "581/581 [==============================] - 97s 166ms/step - loss: 0.2304 - accuracy: 0.9244 - val_loss: 0.2817 - val_accuracy: 0.8982\n"
     ]
    }
   ],
   "source": [
    "dp_lrng_mdl = Sequential()\n",
    "bidrctnl_lyr = layers.Bidirectional(layers.LSTM(20, dropout=0.6))\n",
    "dense_lyr = layers.Dense(3,activation='softmax')\n",
    "mdl_param_ls = 'categorical_crossentropy'\n",
    "mdl_param_opt = 'rmsprop'\n",
    "mdl_param_metric = ['accuracy']\n",
    "mdl_param_ckp_metric = 'val_accuracy'\n",
    "dp_lrng_mdl.add(layers.Embedding(5000, 40, input_length=200))\n",
    "dp_lrng_mdl.add(bidrctnl_lyr)\n",
    "dp_lrng_mdl.add(dense_lyr)\n",
    "dp_lrng_mdl.compile(optimizer=mdl_param_opt,loss=mdl_param_ls, metrics=mdl_param_metric)\n",
    "mdl_ckpnt = ModelCheckpoint(\"mdl.hdf5\", verbose=1, monitor=mdl_param_ckp_metric, save_best_only=True, period=1)\n",
    "mdl_metrics = dp_lrng_mdl.fit(dp_mdl_input, dp_mdl_true, epochs=12, validation_data=(dp_pred_mdl_input, dp_pred_mdl_true), callbacks=[mdl_ckpnt])"
   ]
  },
  {
   "cell_type": "markdown",
   "metadata": {
    "id": "46RrTNvrolpU"
   },
   "source": [
    "### Deep Learning Model Evaluation"
   ]
  },
  {
   "cell_type": "code",
   "execution_count": null,
   "metadata": {
    "colab": {
     "base_uri": "https://localhost:8080/"
    },
    "id": "VAjmMsY-FsiT",
    "outputId": "c1e81530-5689-42f6-8bd2-ea065ad9677a"
   },
   "outputs": [
    {
     "name": "stdout",
     "output_type": "stream",
     "text": [
      "194/194 [==============================] - 7s 29ms/step - loss: 0.2838 - accuracy: 0.9040\n",
      "Deep Learning LSTM Model - Test Accuracy: 0.9040, Test Loss: 0.2838\n"
     ]
    }
   ],
   "source": [
    "dp_lrng_mdl = load_model(\"mdl.hdf5\")\n",
    "mdl_loss, mdl_accuracy = dp_lrng_mdl.evaluate(dp_pred_mdl_input, dp_pred_mdl_true)\n",
    "print(f\"Deep Learning LSTM Model - Test Accuracy: {mdl_accuracy:.4f}, Test Loss: {mdl_loss:.4f}\")\n",
    "accuracies.append(mdl_accuracy)"
   ]
  },
  {
   "cell_type": "markdown",
   "metadata": {
    "id": "TqzmUha_pYF_"
   },
   "source": [
    "### Final Model Evaluation and Visualization"
   ]
  },
  {
   "cell_type": "code",
   "execution_count": null,
   "metadata": {
    "colab": {
     "base_uri": "https://localhost:8080/",
     "height": 714
    },
    "id": "L5u6NRUAM9W9",
    "outputId": "0d7a62b1-00a6-45f3-92fa-36e329e5077d"
   },
   "outputs": [
    {
     "data": {
      "image/png": "[encoded data removed]",
      "text/plain": [
       "<Figure size 800x600 with 1 Axes>"
      ]
     },
     "metadata": {},
     "output_type": "display_data"
    },
    {
     "name": "stdout",
     "output_type": "stream",
     "text": [
      "                Model Used  Model Accuracy\n",
      "0      Logistic Regression        0.891063\n",
      "1            Random Forest        0.888441\n",
      "2  Multinomial Naive Bayes        0.796248\n",
      "3                      SVM        0.900746\n",
      "4       Bidirectional LSTM        0.903970\n"
     ]
    }
   ],
   "source": [
    "models.append('Bidirectional LSTM')\n",
    "plt.figure(figsize=(8, 6))\n",
    "plt.barh(models, accuracies, color='skyblue', edgecolor='black')\n",
    "plt.xlabel('All Model Accuracies', fontsize=13)\n",
    "plt.ylabel('Models', fontsize=12)\n",
    "plt.title('Model Comparison', fontsize=13, fontweight='bold')\n",
    "plt.xlim(0, 1)\n",
    "plt.gca().spines['top'].set_visible(False)\n",
    "plt.gca().spines['right'].set_visible(False)\n",
    "for i, v in enumerate(accuracies):\n",
    "    plt.text(v + 0.01, i, f'{v:.3f}', ha='left', va='center', fontweight='bold', fontsize=11)\n",
    "plt.tight_layout()\n",
    "plt.show()\n",
    "data = {'Model Used': models, 'Model Accuracy': accuracies}\n",
    "df_accuracy = pandas.DataFrame(data)\n",
    "print(df_accuracy)"
   ]
  }
 ],
 "metadata": {
  "colab": {
   "provenance": []
  },
  "kernelspec": {
   "display_name": "Python 3 (ipykernel)",
   "language": "python",
   "name": "python3"
  },
  "language_info": {
   "codemirror_mode": {
    "name": "ipython",
    "version": 3
   },
   "file_extension": ".py",
   "mimetype": "text/x-python",
   "name": "python",
   "nbconvert_exporter": "python",
   "pygments_lexer": "ipython3",
   "version": "3.13.2"
  }
 },
 "nbformat": 4,
 "nbformat_minor": 4
}
